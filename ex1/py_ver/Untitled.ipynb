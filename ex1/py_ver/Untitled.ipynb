{
 "cells": [
  {
   "cell_type": "code",
   "execution_count": 65,
   "metadata": {},
   "outputs": [
    {
     "name": "stdout",
     "output_type": "stream",
     "text": [
      "our data dimensins: (506, 14)\n",
      "(14,)\n"
     ]
    }
   ],
   "source": [
    "# for loading data\n",
    "import pandas as pd\n",
    "# for retriving current path\n",
    "import os\n",
    "# numpy is for matrix calculations\n",
    "import numpy as np\n",
    "import numpy.random as rand"
   ]
  },
  {
   "cell_type": "code",
   "execution_count": 266,
   "metadata": {},
   "outputs": [
    {
     "name": "stdout",
     "output_type": "stream",
     "text": [
      "(15, 506)\n",
      "(14, 400)\n",
      "(1, 400)\n",
      "(14, 106)\n",
      "(1, 106)\n",
      "(14, 1)\n"
     ]
    }
   ],
   "source": [
    "# data file location\n",
    "housing_data_path = os.getcwd() + \"/../../data/ex1/housing.data\"\n",
    "\n",
    "# read in housing data file\n",
    "housing_data_df=pd.read_csv(housing_data_path, delim_whitespace=True, header=None)\n",
    "\n",
    "# conver panda df to numpy matrix\n",
    "housing_data=housing_data_df.values\n",
    "\n",
    "# print our housing data dimensions\n",
    "\n",
    "\n",
    "# number of samples\n",
    "sample_size = housing_data.shape[0]\n",
    "\n",
    "# number of factors with extra bias\n",
    "factor_size = housing_data.shape[1]\n",
    "\n",
    "# permutate data set\n",
    "permIdx = rand.permutation(sample_size)\n",
    "housing_data = housing_data[permIdx,:]\n",
    "housing_data = np.transpose(housing_data)\n",
    "bias = np.ones(sample_size)\n",
    "\n",
    "# add extra row of ones on the data set as bias\n",
    "housing_data = np.vstack((bias, housing_data))\n",
    "\n",
    "print(housing_data.shape)\n",
    "# set up training set and testing set\n",
    "num_train = 400\n",
    "test_X  = housing_data[0:factor_size, 0:num_train]\n",
    "test_y  = housing_data[factor_size:factor_size+1,   0:num_train]\n",
    "print(test_X.shape)\n",
    "print(test_y.shape)\n",
    "\n",
    "train_X = housing_data[0:factor_size, num_train:sample_size+1]\n",
    "train_y = housing_data[factor_size:factor_size+1,  num_train:sample_size+1]\n",
    "\n",
    "print(train_X.shape)\n",
    "print(train_y.shape)\n",
    "# our weights to be tweaked\n",
    "theta  = rand.rand(factor_size, 1)\n",
    "print(theta.shape)\n"
   ]
  },
  {
   "cell_type": "code",
   "execution_count": 270,
   "metadata": {},
   "outputs": [],
   "source": [
    "debug = False\n",
    "def predict(X, theta):\n",
    "    Xt = np.transpose(X)\n",
    "    result = np.matmul(Xt, theta)\n",
    "    return result\n",
    "\n",
    "def calError(X, y, theta):\n",
    "    # predict results\n",
    "    y_ = predict(X, theta)\n",
    "\n",
    "    # half of square difference\n",
    "    error = np.square((y_ - y.T))\n",
    "    \n",
    "    return np.sum(error) / X.shape[1]\n",
    "\n",
    "\n",
    "def calGradient(X, y, theta):\n",
    "    Xt = X.T  \n",
    "    y_ = np.matmul(Xt, theta)\n",
    "    # square difference between prediction and actual price\n",
    "    diff = np.subtract(y_, y.T)\n",
    "    gradient = np.matmul(X, diff) / X.shape[1]\n",
    "\n",
    "    return gradient\n",
    "\n",
    "def updateWeight(X, y, theta, step_size):\n",
    "    gradient = calGradient(X, y, theta)\n",
    "    theta = theta - step_size * gradient\n",
    "    \n",
    "    return theta"
   ]
  },
  {
   "cell_type": "code",
   "execution_count": 271,
   "metadata": {},
   "outputs": [],
   "source": [
    "def gradientDescend(X, y, theta, step_size, num_iter):\n",
    "    for i in range(num_iter):\n",
    "        theta = updateWeight(X, y, theta, step_size)\n",
    "        if(i % 100 == 0):\n",
    "            print(\"iteration: \" + str(i))\n",
    "            print(\"Error: \" + str(calError(X, y, theta)))"
   ]
  },
  {
   "cell_type": "code",
   "execution_count": 277,
   "metadata": {},
   "outputs": [
    {
     "name": "stdout",
     "output_type": "stream",
     "text": [
      "iteration: 0\n",
      "Error: 47584176512.72109\n",
      "iteration: 100\n",
      "Error: inf\n",
      "iteration: 200\n",
      "Error: nan\n",
      "iteration: 300\n",
      "Error: nan\n",
      "iteration: 400\n",
      "Error: nan\n",
      "iteration: 500\n",
      "Error: nan\n",
      "iteration: 600\n",
      "Error: nan\n",
      "iteration: 700\n",
      "Error: nan\n",
      "iteration: 800\n",
      "Error: nan\n",
      "iteration: 900\n",
      "Error: nan\n"
     ]
    },
    {
     "name": "stderr",
     "output_type": "stream",
     "text": [
      "/home/xiaofan/anaconda3/lib/python3.6/site-packages/ipykernel_launcher.py:12: RuntimeWarning: overflow encountered in square\n",
      "  if sys.path[0] == '':\n"
     ]
    }
   ],
   "source": [
    "gradientDescend(test_X, test_y, theta, 0.001, 1000)"
   ]
  },
  {
   "cell_type": "code",
   "execution_count": 275,
   "metadata": {},
   "outputs": [
    {
     "name": "stdout",
     "output_type": "stream",
     "text": [
      "Error: 485888.16047751205\n"
     ]
    }
   ],
   "source": [
    "print(\"Error: \" + str(calError(train_X, train_y, theta)))"
   ]
  },
  {
   "cell_type": "code",
   "execution_count": null,
   "metadata": {},
   "outputs": [],
   "source": []
  }
 ],
 "metadata": {
  "kernelspec": {
   "display_name": "Python 3",
   "language": "python",
   "name": "python3"
  },
  "language_info": {
   "codemirror_mode": {
    "name": "ipython",
    "version": 3
   },
   "file_extension": ".py",
   "mimetype": "text/x-python",
   "name": "python",
   "nbconvert_exporter": "python",
   "pygments_lexer": "ipython3",
   "version": "3.6.5"
  }
 },
 "nbformat": 4,
 "nbformat_minor": 2
}
